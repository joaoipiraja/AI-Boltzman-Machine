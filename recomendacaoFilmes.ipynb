{
  "nbformat": 4,
  "nbformat_minor": 0,
  "metadata": {
    "colab": {
      "name": "recomendacaoFilmes.ipynb",
      "provenance": [],
      "authorship_tag": "ABX9TyOjC8Jo6pMrm6klNVrpePIA"
    },
    "kernelspec": {
      "name": "python3",
      "display_name": "Python 3"
    }
  },
  "cells": [
    {
      "cell_type": "code",
      "metadata": {
        "id": "mvNCfv0VFIi8"
      },
      "source": [
        "from rbm import RBM\n",
        "import numpy as np"
      ],
      "execution_count": 13,
      "outputs": []
    },
    {
      "cell_type": "code",
      "metadata": {
        "id": "hTzEHYI2GLTq"
      },
      "source": [
        "rbm = RBM(num_visible = 6, num_hidden=2)\n"
      ],
      "execution_count": 14,
      "outputs": []
    },
    {
      "cell_type": "code",
      "metadata": {
        "id": "vtNakpa7Gnhk"
      },
      "source": [
        "base = np.array([[1,1,1,0,0,0],\n",
        "                 [1,0,1,0,0,0],\n",
        "                 [1,1,1,0,0,0],\n",
        "                 [0,0,1,1,1,1],\n",
        "                 [0,0,1,1,0,1],\n",
        "                 [0,0,1,1,0,1]])"
      ],
      "execution_count": 57,
      "outputs": []
    },
    {
      "cell_type": "code",
      "metadata": {
        "id": "RpcQuxAVG6gN"
      },
      "source": [
        "rbm.train(base,max_epochs=5000)"
      ],
      "execution_count": null,
      "outputs": []
    },
    {
      "cell_type": "code",
      "metadata": {
        "colab": {
          "base_uri": "https://localhost:8080/"
        },
        "id": "F8mpX6UnHL3C",
        "outputId": "c1687008-0e3d-4775-dd49-870ae00e0654"
      },
      "source": [
        "rbm.weights #(1 linha e 1 coluna - unidade de Bias) Positivo- faz parte do padrão/ Negativo - Não faz parte"
      ],
      "execution_count": 59,
      "outputs": [
        {
          "output_type": "execute_result",
          "data": {
            "text/plain": [
              "array([[ 10.19452735,  -4.35683507,  -4.88313838],\n",
              "       [ -4.16433884,   8.0218212 ,   2.01398463],\n",
              "       [ -6.63034833,  -2.41548852,  15.39543408],\n",
              "       [  6.06680652,  16.2121406 ,  -2.5157042 ],\n",
              "       [  7.06217553, -13.99094666, -14.14387024],\n",
              "       [ -0.6927548 , -14.14458805, -14.14328897],\n",
              "       [  4.39742142,  -8.14616741,  -3.12018977]])"
            ]
          },
          "metadata": {
            "tags": []
          },
          "execution_count": 59
        }
      ]
    },
    {
      "cell_type": "code",
      "metadata": {
        "id": "5cDcIVd0OEHu"
      },
      "source": [
        "def recomendar(rbm,preferencias_lista,usuario_preferencia):\n",
        "    preferencias_lista_usuario = []\n",
        "    data = rbm.run_visible(usuario_preferencia)\n",
        "    recomendacao = rbm.run_hidden(data)\n",
        "    for i in range(len(usuario_preferencia[0])):\n",
        "      if(usuario_preferencia[0,i] == 0 and recomendacao[0,i] == 1):\n",
        "        preferencias_lista_usuario.append(preferencias_lista[i])\n",
        "    return preferencias_lista_usuario"
      ],
      "execution_count": 60,
      "outputs": []
    },
    {
      "cell_type": "code",
      "metadata": {
        "id": "w-hHS8AJHlak"
      },
      "source": [
        "usuario1 = np.array([[1,0,1,0,1,1]])\n",
        "usuario2 = np.array([[0,0,0,1,1,0]])\n",
        "filmes = [\"A bruxa\", \"Invocação do Mal\",\"O chamado\",\"Se beber, não case\", \"Gente Grande\",\"American Pie\"]"
      ],
      "execution_count": 61,
      "outputs": []
    },
    {
      "cell_type": "code",
      "metadata": {
        "colab": {
          "base_uri": "https://localhost:8080/"
        },
        "id": "oYOuaKXqLMQs",
        "outputId": "6ea1b5d9-4d6d-4984-9872-d86222daf31b"
      },
      "source": [
        "recomendar(rbm,filmes,usuario1)"
      ],
      "execution_count": 62,
      "outputs": [
        {
          "output_type": "execute_result",
          "data": {
            "text/plain": [
              "['Se beber, não case']"
            ]
          },
          "metadata": {
            "tags": []
          },
          "execution_count": 62
        }
      ]
    },
    {
      "cell_type": "code",
      "metadata": {
        "colab": {
          "base_uri": "https://localhost:8080/"
        },
        "id": "nLUl_vjwQ68s",
        "outputId": "f60dd4a9-5668-4cb7-ac4c-514ceafe4435"
      },
      "source": [
        "recomendar(rbm,filmes,usuario2)"
      ],
      "execution_count": 63,
      "outputs": [
        {
          "output_type": "execute_result",
          "data": {
            "text/plain": [
              "['O chamado', 'American Pie']"
            ]
          },
          "metadata": {
            "tags": []
          },
          "execution_count": 63
        }
      ]
    }
  ]
}