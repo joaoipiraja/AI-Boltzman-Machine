{
  "nbformat": 4,
  "nbformat_minor": 0,
  "metadata": {
    "colab": {
      "name": "multi-layerPerceptronClassifier.ipynb",
      "provenance": [],
      "authorship_tag": "ABX9TyNt7PBNxvUbkXrGG4bgKOPe"
    },
    "kernelspec": {
      "name": "python3",
      "display_name": "Python 3"
    }
  },
  "cells": [
    {
      "cell_type": "code",
      "metadata": {
        "id": "hPCU1KY8EPnm"
      },
      "source": [
        "import numpy as np\n",
        "import matplotlib.pyplot as plt\n",
        "from sklearn import datasets,metrics\n",
        "from sklearn import datasets,metrics\n",
        "from sklearn.neural_network import MLPClassifier\n",
        "from sklearn.datasets import make_classification\n",
        "from sklearn.model_selection import train_test_split"
      ],
      "execution_count": null,
      "outputs": []
    },
    {
      "cell_type": "code",
      "metadata": {
        "id": "3pNDKSU4Ghz0"
      },
      "source": [
        "base = datasets.load_digits() #Base de digitos numéricos à mão\n",
        "previsores = np.asarray(base.data,\"float32\")\n",
        "classe = base.target"
      ],
      "execution_count": null,
      "outputs": []
    },
    {
      "cell_type": "code",
      "metadata": {
        "id": "2YGPIuE-HBeN"
      },
      "source": [
        "previsores_treinamento,previsores_teste,classe_treinamento,classe_teste = train_test_split(previsores,classe,test_size=0.2,random_state=0)"
      ],
      "execution_count": null,
      "outputs": []
    },
    {
      "cell_type": "code",
      "metadata": {
        "id": "p_mtKQ2AHRQb"
      },
      "source": [
        "clf = MLPClassifier(random_state=1, max_iter=300).fit(previsores_treinamento, classe_treinamento)"
      ],
      "execution_count": null,
      "outputs": []
    },
    {
      "cell_type": "code",
      "metadata": {
        "colab": {
          "base_uri": "https://localhost:8080/"
        },
        "id": "FjK7DcmaHtdf",
        "outputId": "462d2e91-114a-4a13-d8d7-41d49a345a8e"
      },
      "source": [
        "previsores_teste.shape"
      ],
      "execution_count": null,
      "outputs": [
        {
          "output_type": "execute_result",
          "data": {
            "text/plain": [
              "(360, 64)"
            ]
          },
          "metadata": {
            "tags": []
          },
          "execution_count": 12
        }
      ]
    },
    {
      "cell_type": "code",
      "metadata": {
        "id": "pQHnimMLKpCb"
      },
      "source": [
        "previsoes = clf.predict(previsores_teste)"
      ],
      "execution_count": null,
      "outputs": []
    },
    {
      "cell_type": "code",
      "metadata": {
        "colab": {
          "base_uri": "https://localhost:8080/"
        },
        "id": "90Qaz4NyHfE2",
        "outputId": "0cc6a5e2-a1f8-4916-8123-e5da449b1341"
      },
      "source": [
        "precisao = metrics.accuracy_score(previsoes,classe_teste)\n",
        "precisao"
      ],
      "execution_count": null,
      "outputs": [
        {
          "output_type": "execute_result",
          "data": {
            "text/plain": [
              "0.975"
            ]
          },
          "metadata": {
            "tags": []
          },
          "execution_count": 19
        }
      ]
    }
  ]
}