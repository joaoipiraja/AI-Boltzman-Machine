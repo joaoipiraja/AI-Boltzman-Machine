{
  "nbformat": 4,
  "nbformat_minor": 0,
  "metadata": {
    "colab": {
      "name": "recomendacaoFilmes2.ipynb",
      "provenance": [],
      "authorship_tag": "ABX9TyOfusmvKClO9y7HC2wOu2Qd"
    },
    "kernelspec": {
      "name": "python3",
      "display_name": "Python 3"
    }
  },
  "cells": [
    {
      "cell_type": "code",
      "metadata": {
        "id": "f325mb6Ce0Di"
      },
      "source": [
        "from rbm import RBM\n",
        "import numpy as np"
      ],
      "execution_count": 1,
      "outputs": []
    },
    {
      "cell_type": "code",
      "metadata": {
        "id": "7shTd16BS8YF"
      },
      "source": [
        "def recomendar(rbm,preferencias_lista,usuario_preferencia):\n",
        "    preferencias_lista_usuario = []\n",
        "    data = rbm.run_visible(usuario_preferencia)\n",
        "    recomendacao = rbm.run_hidden(data)\n",
        "    for i in range(len(usuario_preferencia[0])):\n",
        "      if(usuario_preferencia[0,i] == 0 and recomendacao[0,i] == 1):\n",
        "        preferencias_lista_usuario.append(preferencias_lista[i])\n",
        "    return preferencias_lista_usuario"
      ],
      "execution_count": 2,
      "outputs": []
    },
    {
      "cell_type": "code",
      "metadata": {
        "id": "Dzt7oiyme7h_"
      },
      "source": [
        "rbm = RBM(num_visible = 6, num_hidden=2)"
      ],
      "execution_count": 3,
      "outputs": []
    },
    {
      "cell_type": "code",
      "metadata": {
        "id": "2wa5dRyYfB6y"
      },
      "source": [
        "base = np.array([[0,1,1,1,0,1],\n",
        "                 [1,1,0,1,1,1],\n",
        "                 [0,1,0,1,0,1],\n",
        "                 [0,1,1,1,0,1],\n",
        "                 [1,1,0,1,0,1],\n",
        "                 [1,1,0,1,0,1],\n",
        "                 [1,1,0,1,1,1],\n",
        "                 [0,1,0,1,0,0]\n",
        "                 ])"
      ],
      "execution_count": 4,
      "outputs": []
    },
    {
      "cell_type": "code",
      "metadata": {
        "id": "CFmTmgMsf8bl"
      },
      "source": [
        "rbm.train(base,max_epochs=5000)"
      ],
      "execution_count": null,
      "outputs": []
    },
    {
      "cell_type": "code",
      "metadata": {
        "id": "PVjHmKHVf_Qj"
      },
      "source": [
        "usuario1 = np.array([[0,1,0,1,0,0]])\n",
        "filmes = [\"Freddy x Jason\", \"O Ultimato Bourne\",\"Star Treck\",\"Exterminador do Futuro\", \"Norbit\",\"Star Wars\"]"
      ],
      "execution_count": 8,
      "outputs": []
    },
    {
      "cell_type": "code",
      "metadata": {
        "colab": {
          "base_uri": "https://localhost:8080/"
        },
        "id": "2gDIdyOugZ4y",
        "outputId": "4950efd3-3ad5-48b7-a4f7-43141083502b"
      },
      "source": [
        "recomendar(rbm,filmes,usuario1)"
      ],
      "execution_count": 9,
      "outputs": [
        {
          "output_type": "execute_result",
          "data": {
            "text/plain": [
              "['Star Wars']"
            ]
          },
          "metadata": {
            "tags": []
          },
          "execution_count": 9
        }
      ]
    }
  ]
}